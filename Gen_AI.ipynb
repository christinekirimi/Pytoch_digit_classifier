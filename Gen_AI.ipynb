{
  "nbformat": 4,
  "nbformat_minor": 0,
  "metadata": {
    "colab": {
      "provenance": []
    },
    "kernelspec": {
      "name": "python3",
      "display_name": "Python 3"
    },
    "language_info": {
      "name": "python"
    }
  },
  "cells": [
    {
      "cell_type": "markdown",
      "source": [
        "# PyTorch Beginner's Toolkit: Deep Learning Fundamentals"
      ],
      "metadata": {
        "id": "OMeUfE2fMd53"
      }
    },
    {
      "cell_type": "markdown",
      "source": [
        "### Getting Started with PyTorch - A Data Scientist's Guide to Deep Learning\n",
        "Technology Chosen: PyTorch\n",
        "\n",
        "Why PyTorch?\n",
        "\n",
        "As a data scientist familiar with traditional ML, I chose PyTorch to expand into deep learning because:\n",
        "\n",
        "•\tDynamic computational graphs make it more intuitive than TensorFlow\n",
        "\n",
        "•\tPythonic design feels natural\n",
        "\n",
        "•\tStrong research community and extensive documentation\n",
        "\n",
        "•\tIndustry standard for research and increasingly for production\n",
        "\n",
        "End Goal: Build a working neural network for image classification that can recognize handwritten digits.\n",
        "\n",
        "### Quick Summary of PyTorch\n",
        "PyTorch is an open-source machine learning library developed by Facebook's AI Research lab. It's built on the Torch library and provides:\n",
        "\n",
        "•\tDynamic computation graphs (define-by-run)\n",
        "\n",
        "•\tAutomatic differentiation for gradient computation\n",
        "\n",
        "•\tGPU acceleration support\n",
        "\n",
        "•\tFlexible neural network building blocks\n",
        "\n",
        "Where it's used:\n",
        "Research institutions, tech companies (Facebook, Tesla, OpenAI), and production ML systems.\n",
        "\n",
        "Real-world example:\n",
        "Tesla uses PyTorch for their computer vision models in autonomous driving.\n"
      ],
      "metadata": {
        "id": "kxvOs-G8U3t0"
      }
    },
    {
      "cell_type": "markdown",
      "source": [
        " uses the pip install command to install three Python packages: torch, torchvision, and torchaudio.\n",
        ""
      ],
      "metadata": {
        "id": "OQNerrYbMWyP"
      }
    },
    {
      "cell_type": "code",
      "execution_count": 22,
      "metadata": {
        "colab": {
          "base_uri": "https://localhost:8080/"
        },
        "id": "jekRwBWc0x_A",
        "outputId": "8b19a5b1-4b84-45a8-89a1-ce95f911d327"
      },
      "outputs": [
        {
          "output_type": "stream",
          "name": "stdout",
          "text": [
            "Requirement already satisfied: torch in /usr/local/lib/python3.11/dist-packages (2.6.0+cu124)\n",
            "Requirement already satisfied: torchvision in /usr/local/lib/python3.11/dist-packages (0.21.0+cu124)\n",
            "Requirement already satisfied: torchaudio in /usr/local/lib/python3.11/dist-packages (2.6.0+cu124)\n",
            "Requirement already satisfied: filelock in /usr/local/lib/python3.11/dist-packages (from torch) (3.18.0)\n",
            "Requirement already satisfied: typing-extensions>=4.10.0 in /usr/local/lib/python3.11/dist-packages (from torch) (4.14.1)\n",
            "Requirement already satisfied: networkx in /usr/local/lib/python3.11/dist-packages (from torch) (3.5)\n",
            "Requirement already satisfied: jinja2 in /usr/local/lib/python3.11/dist-packages (from torch) (3.1.6)\n",
            "Requirement already satisfied: fsspec in /usr/local/lib/python3.11/dist-packages (from torch) (2025.3.0)\n",
            "Requirement already satisfied: nvidia-cuda-nvrtc-cu12==12.4.127 in /usr/local/lib/python3.11/dist-packages (from torch) (12.4.127)\n",
            "Requirement already satisfied: nvidia-cuda-runtime-cu12==12.4.127 in /usr/local/lib/python3.11/dist-packages (from torch) (12.4.127)\n",
            "Requirement already satisfied: nvidia-cuda-cupti-cu12==12.4.127 in /usr/local/lib/python3.11/dist-packages (from torch) (12.4.127)\n",
            "Requirement already satisfied: nvidia-cudnn-cu12==9.1.0.70 in /usr/local/lib/python3.11/dist-packages (from torch) (9.1.0.70)\n",
            "Requirement already satisfied: nvidia-cublas-cu12==12.4.5.8 in /usr/local/lib/python3.11/dist-packages (from torch) (12.4.5.8)\n",
            "Requirement already satisfied: nvidia-cufft-cu12==11.2.1.3 in /usr/local/lib/python3.11/dist-packages (from torch) (11.2.1.3)\n",
            "Requirement already satisfied: nvidia-curand-cu12==10.3.5.147 in /usr/local/lib/python3.11/dist-packages (from torch) (10.3.5.147)\n",
            "Requirement already satisfied: nvidia-cusolver-cu12==11.6.1.9 in /usr/local/lib/python3.11/dist-packages (from torch) (11.6.1.9)\n",
            "Requirement already satisfied: nvidia-cusparse-cu12==12.3.1.170 in /usr/local/lib/python3.11/dist-packages (from torch) (12.3.1.170)\n",
            "Requirement already satisfied: nvidia-cusparselt-cu12==0.6.2 in /usr/local/lib/python3.11/dist-packages (from torch) (0.6.2)\n",
            "Requirement already satisfied: nvidia-nccl-cu12==2.21.5 in /usr/local/lib/python3.11/dist-packages (from torch) (2.21.5)\n",
            "Requirement already satisfied: nvidia-nvtx-cu12==12.4.127 in /usr/local/lib/python3.11/dist-packages (from torch) (12.4.127)\n",
            "Requirement already satisfied: nvidia-nvjitlink-cu12==12.4.127 in /usr/local/lib/python3.11/dist-packages (from torch) (12.4.127)\n",
            "Requirement already satisfied: triton==3.2.0 in /usr/local/lib/python3.11/dist-packages (from torch) (3.2.0)\n",
            "Requirement already satisfied: sympy==1.13.1 in /usr/local/lib/python3.11/dist-packages (from torch) (1.13.1)\n",
            "Requirement already satisfied: mpmath<1.4,>=1.1.0 in /usr/local/lib/python3.11/dist-packages (from sympy==1.13.1->torch) (1.3.0)\n",
            "Requirement already satisfied: numpy in /usr/local/lib/python3.11/dist-packages (from torchvision) (2.0.2)\n",
            "Requirement already satisfied: pillow!=8.3.*,>=5.3.0 in /usr/local/lib/python3.11/dist-packages (from torchvision) (11.3.0)\n",
            "Requirement already satisfied: MarkupSafe>=2.0 in /usr/local/lib/python3.11/dist-packages (from jinja2->torch) (3.0.2)\n"
          ]
        }
      ],
      "source": [
        "pip install torch torchvision torchaudio"
      ]
    },
    {
      "cell_type": "code",
      "source": [
        "#this cell verifies that PyTorch and torchvision are imported and reports the PyTorch version\n",
        "#and whether GPU acceleration (via CUDA) is available.\n",
        "import torch\n",
        "import torchvision\n",
        "print(f\"PyTorch version: {torch.__version__}\")\n",
        "print(f\"CUDA available: {torch.cuda.is_available()}\")\n"
      ],
      "metadata": {
        "colab": {
          "base_uri": "https://localhost:8080/"
        },
        "id": "4BpuMQga1rjl",
        "outputId": "25efd336-a43f-44d5-b6b2-e91d016a691a"
      },
      "execution_count": 23,
      "outputs": [
        {
          "output_type": "stream",
          "name": "stdout",
          "text": [
            "PyTorch version: 2.6.0+cu124\n",
            "CUDA available: False\n"
          ]
        }
      ]
    },
    {
      "cell_type": "code",
      "source": [
        "#In essence, this cell is showing how to create a tensor with random values\n",
        "#and display its contents. Tensors are the fundamental data structure in PyTorch, similar to arrays in NumPy,\n",
        "#and they are used to perform mathematical operations that are crucial for deep learning.# Test basic tensor operations\n",
        "x = torch.rand(3, 3)\n",
        "print(\"Random tensor:\")\n",
        "print(x)\n"
      ],
      "metadata": {
        "colab": {
          "base_uri": "https://localhost:8080/"
        },
        "id": "Pn_cojtT2Jeu",
        "outputId": "83811ded-2dbd-4588-eaa4-b73b1705c164"
      },
      "execution_count": 24,
      "outputs": [
        {
          "output_type": "stream",
          "name": "stdout",
          "text": [
            "Random tensor:\n",
            "tensor([[0.0400, 0.4949, 0.2858],\n",
            "        [0.2152, 0.3412, 0.3431],\n",
            "        [0.7911, 0.8983, 0.9795]])\n"
          ]
        }
      ]
    },
    {
      "cell_type": "code",
      "source": [
        "#Tensors - The Foundation\n",
        "# this cell illustrates how to create tensors from existing Python data structures and\n",
        "# how to perform fundamental matrix multiplication using torch.mm(), a common operation in linear algebra and deep learning.\n",
        "import torch\n",
        "\n",
        "# Creating tensors\n",
        "data = [[1, 2], [3, 4]]\n",
        "tensor = torch.tensor(data)\n",
        "print(f\"Tensor: {tensor}\")\n",
        "\n",
        "# Tensor operations\n",
        "a = torch.rand(2, 2)\n",
        "b = torch.rand(2, 2)\n",
        "result = torch.mm(a, b)  # Matrix multiplication\n",
        "print(f\"Matrix multiplication result: {result}\")\n"
      ],
      "metadata": {
        "colab": {
          "base_uri": "https://localhost:8080/"
        },
        "id": "RWRI0Jk72OCa",
        "outputId": "f5fe8f09-69d4-41e1-f211-c7f9e0468f91"
      },
      "execution_count": 25,
      "outputs": [
        {
          "output_type": "stream",
          "name": "stdout",
          "text": [
            "Tensor: tensor([[1, 2],\n",
            "        [3, 4]])\n",
            "Matrix multiplication result: tensor([[0.7336, 0.3889],\n",
            "        [0.1938, 0.3340]])\n"
          ]
        }
      ]
    },
    {
      "cell_type": "code",
      "source": [
        "#2. Autograd - Automatic Differentiation\n",
        "#In essence, this cell illustrates how to enable gradient computation for a tensor,\n",
        "# define a function, and then automatically calculate the gradient of the function's output with respect to the input tensor using autograd.\n",
        "# This is a fundamental concept in training neural networks, as it's used to update model weights during backpropagation.\n",
        "# Gradient computation\n",
        "x = torch.tensor([2.0], requires_grad=True)\n",
        "y = x**2 + 3*x + 1\n",
        "y.backward()  # Compute gradients\n",
        "print(f\"Gradient of y with respect to x: {x.grad}\")\n"
      ],
      "metadata": {
        "colab": {
          "base_uri": "https://localhost:8080/"
        },
        "id": "XQLoS2r55QTk",
        "outputId": "cc7335c8-8765-49a6-eee3-6bd2118cefa0"
      },
      "execution_count": 26,
      "outputs": [
        {
          "output_type": "stream",
          "name": "stdout",
          "text": [
            "Gradient of y with respect to x: tensor([7.])\n"
          ]
        }
      ]
    },
    {
      "cell_type": "code",
      "source": [
        "#this cell defines a simple feedforward neural network with three linear layers and ReLU activation functions,\n",
        "#ready to be used for a task like classification.\n",
        "\n",
        "\n",
        "import torch.nn as nn\n",
        "import torch.nn.functional as F\n",
        "\n",
        "class SimpleNet(nn.Module):\n",
        "    def __init__(self):\n",
        "        super(SimpleNet, self).__init__()\n",
        "        self.fc1 = nn.Linear(784, 128)  # Input layer\n",
        "        self.fc2 = nn.Linear(128, 64)   # Hidden layer\n",
        "        self.fc3 = nn.Linear(64, 10)    # Output layer\n",
        "\n",
        "    def forward(self, x):\n",
        "        x = F.relu(self.fc1(x))\n",
        "        x = F.relu(self.fc2(x))\n",
        "        x = self.fc3(x)\n",
        "        return x\n",
        "\n",
        "# Create model instance\n",
        "model = SimpleNet()\n",
        "print(model)\n"
      ],
      "metadata": {
        "colab": {
          "base_uri": "https://localhost:8080/"
        },
        "id": "tOA4txhq5dYF",
        "outputId": "1fd7bb3f-8d0d-46e2-a4f5-d48dd2443ae6"
      },
      "execution_count": 27,
      "outputs": [
        {
          "output_type": "stream",
          "name": "stdout",
          "text": [
            "SimpleNet(\n",
            "  (fc1): Linear(in_features=784, out_features=128, bias=True)\n",
            "  (fc2): Linear(in_features=128, out_features=64, bias=True)\n",
            "  (fc3): Linear(in_features=64, out_features=10, bias=True)\n",
            ")\n"
          ]
        }
      ]
    },
    {
      "cell_type": "code",
      "source": [
        "import torch.optim as optim\n",
        "import torch.nn as nn # Import nn module if not already imported\n",
        "\n",
        "# Define loss function and optimizer\n",
        "criterion = nn.CrossEntropyLoss()\n",
        "optimizer = optim.Adam(model.parameters(), lr=0.001)\n",
        "\n",
        "# Define the number of training epochs\n",
        "num_epochs = 10 # Example: train for 10 epochs\n",
        "\n",
        "# Training loop structure\n",
        "# Replace with your actual dataloader\n",
        "# dataloader = your_dataloader_here\n",
        "\n",
        "for epoch in range(num_epochs):\n",
        "    # Assuming you have a dataloader ready\n",
        "    # for batch in dataloader:\n",
        "        # Assuming batch contains inputs and labels\n",
        "        # inputs, labels = batch\n",
        "\n",
        "        # Forward pass\n",
        "        # outputs = model(inputs)\n",
        "        # loss = criterion(outputs, labels)\n",
        "\n",
        "        # Backward pass and optimize\n",
        "        # optimizer.zero_grad()\n",
        "        # loss.backward()\n",
        "        # optimizer.step()\n",
        "\n",
        "        # Optional: Print loss or other metrics periodically\n",
        "        # print(f'Epoch [{epoch+1}/{num_epochs}], Loss: {loss.item():.4f}')\n",
        "    print(f'Epoch [{epoch+1}/{num_epochs}] completed.') # Placeholder print"
      ],
      "metadata": {
        "colab": {
          "base_uri": "https://localhost:8080/"
        },
        "id": "HoK4DmHP5oqW",
        "outputId": "91eafcb8-533d-4783-de37-ca8d4a5036ad"
      },
      "execution_count": 28,
      "outputs": [
        {
          "output_type": "stream",
          "name": "stdout",
          "text": [
            "Epoch [1/10] completed.\n",
            "Epoch [2/10] completed.\n",
            "Epoch [3/10] completed.\n",
            "Epoch [4/10] completed.\n",
            "Epoch [5/10] completed.\n",
            "Epoch [6/10] completed.\n",
            "Epoch [7/10] completed.\n",
            "Epoch [8/10] completed.\n",
            "Epoch [9/10] completed.\n",
            "Epoch [10/10] completed.\n"
          ]
        }
      ]
    },
    {
      "cell_type": "code",
      "source": [
        "import torch\n",
        "import torch.nn as nn\n",
        "import torch.nn.functional as F\n",
        "import torch.optim as optim\n",
        "from torchvision import datasets, transforms\n",
        "from torch.utils.data import DataLoader\n",
        "import matplotlib.pyplot as plt\n"
      ],
      "metadata": {
        "id": "Z5ltpD-t7YGN"
      },
      "execution_count": 29,
      "outputs": []
    },
    {
      "cell_type": "code",
      "source": [
        "# Set device\n",
        "device = torch.device(\"cuda\" if torch.cuda.is_available() else \"cpu\")\n",
        "print(f\"Using device: {device}\")\n",
        "\n",
        "# Data preprocessing and loading\n",
        "transform = transforms.Compose([\n",
        "    transforms.ToTensor(),\n",
        "    transforms.Normalize((0.1307,), (0.3081,))\n",
        "])\n",
        "\n"
      ],
      "metadata": {
        "colab": {
          "base_uri": "https://localhost:8080/"
        },
        "id": "VcuJVJt784fE",
        "outputId": "542ac035-344c-4762-c8c1-f0199302fb07"
      },
      "execution_count": 30,
      "outputs": [
        {
          "output_type": "stream",
          "name": "stdout",
          "text": [
            "Using device: cpu\n"
          ]
        }
      ]
    },
    {
      "cell_type": "code",
      "source": [
        "# Download and load datasets\n",
        "train_dataset = datasets.MNIST('./data', train=True, download=True, transform=transform)\n",
        "test_dataset = datasets.MNIST('./data', train=False, transform=transform)\n",
        "\n",
        "train_loader = DataLoader(train_dataset, batch_size=64, shuffle=True)\n",
        "test_loader = DataLoader(test_dataset, batch_size=1000, shuffle=False)\n"
      ],
      "metadata": {
        "id": "4MDQYoMk9Kji"
      },
      "execution_count": 31,
      "outputs": []
    },
    {
      "cell_type": "code",
      "source": [
        "# Define the neural network\n",
        "class MNISTNet(nn.Module):\n",
        "    def __init__(self):\n",
        "        super(MNISTNet, self).__init__()\n",
        "        self.fc1 = nn.Linear(28*28, 512)\n",
        "        self.fc2 = nn.Linear(512, 256)\n",
        "        self.fc3 = nn.Linear(256, 128)\n",
        "        self.fc4 = nn.Linear(128, 10)\n",
        "        self.dropout = nn.Dropout(0.2)\n",
        "\n",
        "    def forward(self, x):\n",
        "        x = x.view(-1, 28*28)  # Flatten the image\n",
        "        x = F.relu(self.fc1(x))\n",
        "        x = self.dropout(x)\n",
        "        x = F.relu(self.fc2(x))\n",
        "        x = self.dropout(x)\n",
        "        x = F.relu(self.fc3(x))\n",
        "        x = self.fc4(x)\n",
        "        return F.log_softmax(x, dim=1)"
      ],
      "metadata": {
        "id": "heYb5qPH9ZCQ"
      },
      "execution_count": 32,
      "outputs": []
    },
    {
      "cell_type": "code",
      "source": [
        "def forward(self, x):\n",
        "        x = x.view(-1, 28*28)  # Flatten the image\n",
        "        x = F.relu(self.fc1(x))\n",
        "        x = self.dropout(x)\n",
        "        x = F.relu(self.fc2(x))\n",
        "        x = self.dropout(x)\n",
        "        x = F.relu(self.fc3(x))\n",
        "        x = self.fc4(x)\n",
        "        return F.log_softmax(x, dim=1)\n"
      ],
      "metadata": {
        "id": "J2MsXWpA9cB3"
      },
      "execution_count": 33,
      "outputs": []
    },
    {
      "cell_type": "code",
      "source": [
        "# Initialize model, loss function, and optimizer\n",
        "model = MNISTNet().to(device)\n",
        "criterion = nn.NLLLoss()\n",
        "optimizer = optim.Adam(model.parameters(), lr=0.001)\n",
        "\n",
        "# Training function\n",
        "def train(model, device, train_loader, optimizer, epoch):\n",
        "    model.train()\n",
        "    running_loss = 0.0\n",
        "    for batch_idx, (data, target) in enumerate(train_loader):\n",
        "        data, target = data.to(device), target.to(device)\n",
        "\n",
        "        optimizer.zero_grad()\n",
        "        output = model(data)\n",
        "        loss = criterion(output, target)\n",
        "        loss.backward()\n",
        "        optimizer.step()\n",
        "\n",
        "        running_loss += loss.item()\n",
        "        if batch_idx % 300 == 0:\n",
        "            print(f'Train Epoch: {epoch} [{batch_idx * len(data)}/{len(train_loader.dataset)} '\n",
        "                  f'({100. * batch_idx / len(train_loader):.0f}%)]\\tLoss: {loss.item():.6f}')\n",
        "\n",
        "    return running_loss / len(train_loader)\n"
      ],
      "metadata": {
        "id": "uWSHZ8PO9mdq"
      },
      "execution_count": 36,
      "outputs": []
    },
    {
      "cell_type": "code",
      "source": [
        "# Testing function\n",
        "def test(model, device, test_loader):\n",
        "    model.eval()\n",
        "    test_loss = 0\n",
        "    correct = 0\n",
        "    with torch.no_grad():\n",
        "        for data, target in test_loader:\n",
        "            data, target = data.to(device), target.to(device)\n",
        "            output = model(data)\n",
        "            test_loss += criterion(output, target).item()\n",
        "            pred = output.argmax(dim=1, keepdim=True)\n",
        "            correct += pred.eq(target.view_as(pred)).sum().item()\n",
        "\n",
        "    test_loss /= len(test_loader.dataset)\n",
        "    accuracy = 100. * correct / len(test_loader.dataset)\n",
        "    print(f'\\nTest set: Average loss: {test_loss:.4f}, '\n",
        "          f'Accuracy: {correct}/{len(test_loader.dataset)} ({accuracy:.2f}%)\\n')\n",
        "    return accuracy\n",
        "\n",
        "# Train the model\n",
        "print(\"Starting training...\")\n",
        "train_losses = []\n",
        "test_accuracies = []\n",
        "\n",
        "for epoch in range(1, 6):  # Train for 5 epochs\n",
        "    train_loss = train(model, device, train_loader, optimizer, epoch)\n",
        "    test_accuracy = test(model, device, test_loader)\n",
        "    train_losses.append(train_loss)\n",
        "    test_accuracies.append(test_accuracy)\n"
      ],
      "metadata": {
        "colab": {
          "base_uri": "https://localhost:8080/"
        },
        "id": "jDOdXF_O9w6x",
        "outputId": "c3292c33-c504-4388-8e44-6aa143e3073e"
      },
      "execution_count": 38,
      "outputs": [
        {
          "output_type": "stream",
          "name": "stdout",
          "text": [
            "Starting training...\n",
            "Train Epoch: 1 [0/60000 (0%)]\tLoss: 0.012295\n",
            "Train Epoch: 1 [19200/60000 (32%)]\tLoss: 0.029600\n",
            "Train Epoch: 1 [38400/60000 (64%)]\tLoss: 0.034054\n",
            "Train Epoch: 1 [57600/60000 (96%)]\tLoss: 0.106796\n",
            "\n",
            "Test set: Average loss: 0.0001, Accuracy: 9778/10000 (97.78%)\n",
            "\n",
            "Train Epoch: 2 [0/60000 (0%)]\tLoss: 0.020083\n",
            "Train Epoch: 2 [19200/60000 (32%)]\tLoss: 0.081740\n",
            "Train Epoch: 2 [38400/60000 (64%)]\tLoss: 0.029090\n",
            "Train Epoch: 2 [57600/60000 (96%)]\tLoss: 0.062986\n",
            "\n",
            "Test set: Average loss: 0.0001, Accuracy: 9801/10000 (98.01%)\n",
            "\n",
            "Train Epoch: 3 [0/60000 (0%)]\tLoss: 0.020935\n",
            "Train Epoch: 3 [19200/60000 (32%)]\tLoss: 0.024766\n",
            "Train Epoch: 3 [38400/60000 (64%)]\tLoss: 0.016987\n",
            "Train Epoch: 3 [57600/60000 (96%)]\tLoss: 0.003219\n",
            "\n",
            "Test set: Average loss: 0.0001, Accuracy: 9810/10000 (98.10%)\n",
            "\n",
            "Train Epoch: 4 [0/60000 (0%)]\tLoss: 0.036332\n",
            "Train Epoch: 4 [19200/60000 (32%)]\tLoss: 0.043053\n",
            "Train Epoch: 4 [38400/60000 (64%)]\tLoss: 0.003009\n",
            "Train Epoch: 4 [57600/60000 (96%)]\tLoss: 0.012390\n",
            "\n",
            "Test set: Average loss: 0.0001, Accuracy: 9808/10000 (98.08%)\n",
            "\n",
            "Train Epoch: 5 [0/60000 (0%)]\tLoss: 0.008556\n",
            "Train Epoch: 5 [19200/60000 (32%)]\tLoss: 0.033601\n",
            "Train Epoch: 5 [38400/60000 (64%)]\tLoss: 0.008677\n",
            "Train Epoch: 5 [57600/60000 (96%)]\tLoss: 0.025094\n",
            "\n",
            "Test set: Average loss: 0.0001, Accuracy: 9802/10000 (98.02%)\n",
            "\n"
          ]
        }
      ]
    },
    {
      "cell_type": "code",
      "source": [
        "# Plot training progress\n",
        "plt.figure(figsize=(12, 4))\n",
        "plt.subplot(1, 2, 1)\n",
        "plt.plot(train_losses)\n",
        "plt.title('Training Loss')\n",
        "plt.xlabel('Epoch')\n",
        "plt.ylabel('Loss')\n",
        "\n",
        "plt.subplot(1, 2, 2)\n",
        "plt.plot(test_accuracies)\n",
        "plt.title('Test Accuracy')\n",
        "plt.xlabel('Epoch')\n",
        "plt.ylabel('Accuracy (%)')\n",
        "plt.tight_layout()\n",
        "plt.savefig('training_progress.png')\n",
        "plt.show()\n",
        "\n",
        "# Save the trained model\n",
        "torch.save(model.state_dict(), 'mnist_model.pth')\n",
        "print(\"Model saved as 'mnist_model.pth'\")\n",
        "\n",
        "# Demonstrate prediction on a single image\n",
        "def predict_single_image(model, test_loader, device):\n",
        "    model.eval()\n",
        "    with torch.no_grad():\n",
        "        data, target = next(iter(test_loader))\n",
        "        data = data[0:1]  # Take first image\n",
        "        target = target[0:1]\n",
        "\n",
        "        data = data.to(device)\n",
        "        output = model(data)\n",
        "        prediction = output.argmax(dim=1, keepdim=True).item()\n",
        "\n",
        "        # Display the image\n",
        "        plt.figure(figsize=(6, 3))\n",
        "        plt.subplot(1, 2, 1)\n",
        "        plt.imshow(data.cpu().squeeze(), cmap='gray')\n",
        "        plt.title(f'Input Image')\n",
        "        plt.axis('off')\n",
        "\n",
        "        plt.subplot(1, 2, 2)\n",
        "        plt.bar(range(10), F.softmax(output, dim=1).cpu().squeeze())\n",
        "        plt.title(f'Prediction: {prediction}')\n",
        "        plt.xlabel('Digit')\n",
        "        plt.ylabel('Probability')\n",
        "        plt.show()\n",
        "\n",
        "        return prediction\n",
        "\n",
        "# Make a prediction\n",
        "prediction = predict_single_image(model, test_loader, device)\n",
        "print(f\"Predicted digit: {prediction}\")\n"
      ],
      "metadata": {
        "colab": {
          "base_uri": "https://localhost:8080/",
          "height": 736
        },
        "id": "jw8aLMZzBjIB",
        "outputId": "90e56a61-6274-48ab-cdc1-0f06ca27efe3"
      },
      "execution_count": 40,
      "outputs": [
        {
          "output_type": "display_data",
          "data": {
            "text/plain": [
              "<Figure size 1200x400 with 2 Axes>"
            ],
            "image/png": "[encoded data removed]"
          },
          "metadata": {}
        },
        {
          "output_type": "stream",
          "name": "stdout",
          "text": [
            "Model saved as 'mnist_model.pth'\n"
          ]
        },
        {
          "output_type": "display_data",
          "data": {
            "text/plain": [
              "<Figure size 600x300 with 2 Axes>"
            ],
            "image/png": "[encoded data removed]"
          },
          "metadata": {}
        },
        {
          "output_type": "stream",
          "name": "stdout",
          "text": [
            "Predicted digit: 7\n"
          ]
        }
      ]
    }
  ]
}